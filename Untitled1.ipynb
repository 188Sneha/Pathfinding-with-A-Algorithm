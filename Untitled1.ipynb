{
  "nbformat": 4,
  "nbformat_minor": 0,
  "metadata": {
    "colab": {
      "provenance": []
    },
    "kernelspec": {
      "name": "python3",
      "display_name": "Python 3"
    },
    "language_info": {
      "name": "python"
    }
  },
  "cells": [
    {
      "cell_type": "code",
      "execution_count": 1,
      "metadata": {
        "colab": {
          "base_uri": "https://localhost:8080/"
        },
        "id": "SH5NWUGdOAB6",
        "outputId": "a95dfe7b-b595-4fac-84e1-6b33b5b41fea"
      },
      "outputs": [
        {
          "output_type": "stream",
          "name": "stdout",
          "text": [
            "Path: [(0, 0), (1, 0), (2, 0), (3, 0), (4, 0), (4, 1), (4, 2), (4, 3), (4, 4)]\n"
          ]
        }
      ],
      "source": [
        "import heapq\n",
        "\n",
        "# Define a Node class for A* search\n",
        "class Node:\n",
        "    def __init__(self, position, parent=None):\n",
        "        self.position = position  # Current node's position as a tuple (x, y)\n",
        "        self.parent = parent      # Parent node (for backtracking the path)\n",
        "        self.g = 0                # Cost from the start node to this node\n",
        "        self.h = 0                # Heuristic cost (estimated cost to the goal)\n",
        "        self.f = 0                # Total cost (g + h)\n",
        "\n",
        "    def __lt__(self, other):\n",
        "        return self.f < other.f  # For priority queue comparisons\n",
        "\n",
        "# A* algorithm implementation\n",
        "def astar(maze, start, end):\n",
        "    \"\"\"\n",
        "    Perform A* search to find the shortest path in a 2D grid maze.\n",
        "    :param maze: 2D list representing the grid (0 = open, 1 = obstacle)\n",
        "    :param start: Tuple (x, y) representing the starting position\n",
        "    :param end: Tuple (x, y) representing the target position\n",
        "    :return: A list of tuples representing the path from start to end (or empty if no path exists)\n",
        "    \"\"\"\n",
        "    # Initialize the open and closed lists\n",
        "    open_list = []\n",
        "    closed_list = set()\n",
        "\n",
        "    # Add the start node to the open list\n",
        "    start_node = Node(start)\n",
        "    goal_node = Node(end)\n",
        "    heapq.heappush(open_list, start_node)\n",
        "\n",
        "    while open_list:\n",
        "        # Get the node with the lowest f score\n",
        "        current_node = heapq.heappop(open_list)\n",
        "        closed_list.add(current_node.position)\n",
        "\n",
        "        # If we've reached the goal, backtrack the path and return it\n",
        "        if current_node.position == goal_node.position:\n",
        "            path = []\n",
        "            while current_node:\n",
        "                path.append(current_node.position)\n",
        "                current_node = current_node.parent\n",
        "            return path[::-1]  # Reverse path to get it from start to goal\n",
        "\n",
        "        # Generate neighbors\n",
        "        neighbors = [\n",
        "            (0, -1),  # Up\n",
        "            (0, 1),   # Down\n",
        "            (-1, 0),  # Left\n",
        "            (1, 0)    # Right\n",
        "        ]\n",
        "\n",
        "        for move in neighbors:\n",
        "            # Calculate neighbor position\n",
        "            neighbor_pos = (current_node.position[0] + move[0], current_node.position[1] + move[1])\n",
        "\n",
        "            # Check if the neighbor is within the maze boundaries and is walkable\n",
        "            if (\n",
        "                0 <= neighbor_pos[0] < len(maze) and\n",
        "                0 <= neighbor_pos[1] < len(maze[0]) and\n",
        "                maze[neighbor_pos[0]][neighbor_pos[1]] == 0 and\n",
        "                neighbor_pos not in closed_list\n",
        "            ):\n",
        "                neighbor_node = Node(neighbor_pos, current_node)\n",
        "\n",
        "                # Calculate the costs\n",
        "                neighbor_node.g = current_node.g + 1  # Cost to move to neighbor\n",
        "                neighbor_node.h = abs(neighbor_pos[0] - goal_node.position[0]) + abs(neighbor_pos[1] - goal_node.position[1])  # Manhattan distance heuristic\n",
        "                neighbor_node.f = neighbor_node.g + neighbor_node.h\n",
        "\n",
        "                # Add the neighbor to the open list if not already there with a lower f score\n",
        "                if not any(open_node.position == neighbor_node.position and open_node.f <= neighbor_node.f for open_node in open_list):\n",
        "                    heapq.heappush(open_list, neighbor_node)\n",
        "\n",
        "    return []  # Return empty path if no path is found\n",
        "\n",
        "# Example usage\n",
        "maze = [\n",
        "    [0, 1, 0, 0, 0],\n",
        "    [0, 1, 0, 1, 0],\n",
        "    [0, 0, 0, 1, 0],\n",
        "    [0, 1, 1, 1, 0],\n",
        "    [0, 0, 0, 0, 0]\n",
        "]\n",
        "\n",
        "start = (0, 0)  # Starting position\n",
        "end = (4, 4)    # Goal position\n",
        "\n",
        "path = astar(maze, start, end)\n",
        "print(\"Path:\", path)\n"
      ]
    }
  ]
}